{
 "cells": [
  {
   "cell_type": "code",
   "execution_count": 12,
   "metadata": {},
   "outputs": [],
   "source": [
    "import pandas as pd\n",
    "from datetime import datetime\n",
    "import statsmodels.api as sm\n",
    "from pandas.tools.plotting import lag_plot"
   ]
  },
  {
   "cell_type": "code",
   "execution_count": 2,
   "metadata": {},
   "outputs": [],
   "source": [
    "df = pd.read_csv('train.csv')"
   ]
  },
  {
   "cell_type": "code",
   "execution_count": 40,
   "metadata": {},
   "outputs": [],
   "source": [
    "class IntroAnalysis:\n",
    "    #def __init__(self):\n",
    "        \n",
    "    def describing(self, df):\n",
    "        print('Information : \\n ***************')\n",
    "        print(df.info())\n",
    "        print('Description : \\n ***************')\n",
    "        print(df.describe(include='all'))\n",
    "        print('Head : \\n ***************')\n",
    "        print(df.head())\n",
    "        "
   ]
  },
  {
   "cell_type": "code",
   "execution_count": 41,
   "metadata": {},
   "outputs": [],
   "source": [
    "intro = IntroAnalysis()"
   ]
  },
  {
   "cell_type": "code",
   "execution_count": 42,
   "metadata": {},
   "outputs": [
    {
     "name": "stdout",
     "output_type": "stream",
     "text": [
      "Information : \n",
      " ***************\n",
      "<class 'pandas.core.frame.DataFrame'>\n",
      "RangeIndex: 913000 entries, 0 to 912999\n",
      "Data columns (total 4 columns):\n",
      "date     913000 non-null datetime64[ns]\n",
      "store    913000 non-null int64\n",
      "item     913000 non-null int64\n",
      "sales    913000 non-null int64\n",
      "dtypes: datetime64[ns](1), int64(3)\n",
      "memory usage: 27.9 MB\n",
      "None\n",
      "Description : \n",
      " ***************\n",
      "                       date          store           item          sales\n",
      "count                913000  913000.000000  913000.000000  913000.000000\n",
      "unique                 1826            NaN            NaN            NaN\n",
      "top     2017-07-04 00:00:00            NaN            NaN            NaN\n",
      "freq                    500            NaN            NaN            NaN\n",
      "first   2013-01-01 00:00:00            NaN            NaN            NaN\n",
      "last    2017-12-31 00:00:00            NaN            NaN            NaN\n",
      "mean                    NaN       5.500000      25.500000      52.250287\n",
      "std                     NaN       2.872283      14.430878      28.801144\n",
      "min                     NaN       1.000000       1.000000       0.000000\n",
      "25%                     NaN       3.000000      13.000000      30.000000\n",
      "50%                     NaN       5.500000      25.500000      47.000000\n",
      "75%                     NaN       8.000000      38.000000      70.000000\n",
      "max                     NaN      10.000000      50.000000     231.000000\n",
      "Head : \n",
      " ***************\n",
      "        date  store  item  sales\n",
      "0 2013-01-01      1     1     13\n",
      "1 2013-01-02      1     1     11\n",
      "2 2013-01-03      1     1     14\n",
      "3 2013-01-04      1     1     13\n",
      "4 2013-01-05      1     1     10\n"
     ]
    }
   ],
   "source": [
    "intro.describing(df)"
   ]
  },
  {
   "cell_type": "code",
   "execution_count": 7,
   "metadata": {
    "scrolled": true
   },
   "outputs": [
    {
     "data": {
      "text/plain": [
       "date     0\n",
       "store    0\n",
       "item     0\n",
       "sales    0\n",
       "dtype: int64"
      ]
     },
     "execution_count": 7,
     "metadata": {},
     "output_type": "execute_result"
    }
   ],
   "source": [
    "df.isna().sum()"
   ]
  },
  {
   "cell_type": "code",
   "execution_count": 20,
   "metadata": {},
   "outputs": [],
   "source": [
    "df.date = pd.to_datetime(df.date, format='%Y-%m-%d', errors='coerce')"
   ]
  }
 ],
 "metadata": {
  "kernelspec": {
   "display_name": "Python 3",
   "language": "python",
   "name": "python3"
  },
  "language_info": {
   "codemirror_mode": {
    "name": "ipython",
    "version": 3
   },
   "file_extension": ".py",
   "mimetype": "text/x-python",
   "name": "python",
   "nbconvert_exporter": "python",
   "pygments_lexer": "ipython3",
   "version": "3.7.3"
  },
  "toc": {
   "base_numbering": 1,
   "nav_menu": {},
   "number_sections": true,
   "sideBar": true,
   "skip_h1_title": false,
   "title_cell": "Table of Contents",
   "title_sidebar": "Contents",
   "toc_cell": false,
   "toc_position": {},
   "toc_section_display": true,
   "toc_window_display": false
  }
 },
 "nbformat": 4,
 "nbformat_minor": 2
}
