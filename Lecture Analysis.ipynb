{
 "cells": [
  {
   "cell_type": "markdown",
   "metadata": {},
   "source": [
    "# Scraping real estate listings in Lisbon"
   ]
  },
  {
   "cell_type": "markdown",
   "metadata": {},
   "source": [
    "Author is looking for a new place.\n",
    "\n",
    "His goals : \n",
    "\n",
    "\"· Scrape all the search results from one of the main real estate websites in Portugal (where I live) and build a database with all the listings found\n",
    "\n",
    "· Use the collected listings to perform some EDA, and ultimately try to find undervalued properties\"\n",
    "\n",
    "Build a database with listings, analyze the data and find cheap properties"
   ]
  },
  {
   "cell_type": "markdown",
   "metadata": {},
   "source": [
    "Pushes headers and sleeps between loop iterations. \n",
    "\n",
    "Calls this 'polite scraping'.\n",
    "\n",
    "Tests reponses and prints first 1000 characters.\n"
   ]
  },
  {
   "cell_type": "markdown",
   "metadata": {},
   "source": [
    "\n",
    "Finds container with listings and loops through it with indexes.\n",
    "\n",
    "    house_containers = html_soup.find_all('div', class_=\"searchResultProperty\")\n",
    "    \n",
    "    first = house_containers[0]\n",
    "    first.find_all('span')\n",
    "    \n",
    "Gets the 2nd element of the container, where the price is. Then cleans the text to get the price.\n",
    "=>Uses itertools to get only the digits and turn into integer. \n",
    "Adds some conditions because of renting vs buying price.\n",
    "\n",
    "Then goes through other tags to get different info (date, m², etc). Uses indexes inside the text for some reason ? (\"text[21:31]\")\n",
    "\n",
    "- searches for urls with 'a' and 'href' tags.\n",
    "- and thumbnails"
   ]
  },
  {
   "cell_type": "markdown",
   "metadata": {},
   "source": [
    "The loop :\n",
    "Initializes lists for each type of info.\n",
    "\"titles = []\n",
    "created = []\n",
    "prices = []\n",
    "...\n",
    "thumbnails = []\"\n",
    "\n",
    "Creates a loop with 900 iterations, from looking at the number of pages in the code?\n",
    "Adds error handling, with breaking out of the loop if results are empty.\n",
    "=> Could have extracted the right number as a variable directly, but error handling is always a good idea.\n",
    "Actually a double loop : every item in container on each page, then each page in the 900 iterations.\n",
    "\n",
    "Updating his info lists looks like this :\n",
    "\n",
    "            status = container.find_all('p')[5].text\n",
    "            condition.append(status)\n",
    "            \n",
    "=> List comprehensions\n",
    "\n",
    "He added a limit to property prices directly in the URL\n",
    "=> some kind of interactiveness or input ?\n",
    "\n",
    "Then stores all the data in a df, with a dictionnary and the previously created lists.\n",
    "=> Where does it save to ?"
   ]
  },
  {
   "cell_type": "markdown",
   "metadata": {},
   "source": [
    "# Baseball"
   ]
  },
  {
   "cell_type": "markdown",
   "metadata": {},
   "source": [
    "Aims : understanding and proving / disproving "
   ]
  },
  {
   "cell_type": "markdown",
   "metadata": {},
   "source": [
    "1. Which batting statistic, hits, home runs, or runs batted in, had the highest correlation with player salary?\n",
    "2. Which pitching statistic, earned run average, wins, or strikeouts, had the highest correlation with pitcher salary?\n",
    "3. Are these correlations higher in the two seasons preceding the salary year, or in the two seasons following the salary year?\n",
    "4. What can these correlations tell us about relative player value?"
   ]
  },
  {
   "cell_type": "markdown",
   "metadata": {},
   "source": [
    "Hypothesis :\n",
    "\n",
    "1. Home runs will be the most highly correlated statistic with batter salary. I thought that since home runs were a “flashier” statistic, the public at large, and more importantly, the owners of the teams that pay the salaries, would reward batters who displayed a greater tendency to go long. \n",
    "2. Similar to my reasoning for 1, I thought that wins would most highly correlate with pitcher salary as they are easily understood and it seems “fair” to reward pitchers who produce more wins for their team regardless of how representative a measure of a pitcher’s effectiveness wins may be. \n",
    "3. The correlations between performance metrics and salaries will be higher in the preceding two seasons than in the following two seasons. Players who had two good years would be rewarded with a high salary in 2008, but then they would regress to the mean in the following two seasons. A player with two outstanding seasons may seem destined to have a streak of stellar years, but like many other aspects of human performance, baseball is inherently random, which means that outliers will tend to drift back towards the center over time. \n",
    "4. Based on 3, teams should not look to sign players who are coming off multiple good years, but should instead try to discover players on the cusp of a breakout season. On the other hand, players who commanded a large salary in previous years should not be worth as much in subsequent seasons and teams would be wise to avoid them."
   ]
  },
  {
   "cell_type": "markdown",
   "metadata": {},
   "source": [
    "# Wrangling\n",
    "\n",
    "Uses 2016 version of the batting, pitching, and salary datasets downloaded as csv\n",
    "Then uses info from adequate dates, with sufficient data, and cross examining with financial data (median income, etc) to make sense of inflation, etc.\n",
    "With some quick visualizing, he figures out baseball salaries have largely exceeded inflation rising.\n",
    "\n",
    "Grouped data by player and year, to not bother with teams.\n",
    "Wanted to deal with players who were injured or didn't play a full season to keep the data significant (salary/hits). Also only kept players who played every year in the 5 year span he chose.\n",
    "Checks his assumptions about baseball on different sites before proceding to analysis.\n",
    "\n",
    "Split his data into 3 sets: entire 5 years, before the salary year and after the salary year.\n",
    "\n",
    "# Analysis\n",
    "Looks at corrolations between different RBI, hits and homeruns and salary.\n",
    "All are positively correlated : the more proficient, the better the salary.\n",
    "The most correlated is RBI, which goes against the author's initial intuition.\n",
    "\n",
    "Compares these corrolations over preceding seasons and following seasons, which means before and after the salary is calculated.\n",
    "The correlations are stronger in the following seasons, which seems to indicate players are compensated in regards to their past performances.\n",
    "He calculates the correlation over the rest of the season, which are lower: \"My guess is the correlation between the performance metrics and the salary will not be as strong in the following years because the players will not be able to maintain their high level of play that earned them the larger salary in the first place.\"\n",
    "\n",
    "=> players play \"above average\" before their salary is calculated, then revert to more average play over the span of their contract.\n",
    "The author tests this hypothesis, which is verified, but reminds the reader to be cautious as the sample size is small.\n",
    "\n",
    "# T-tests\n",
    "The author incorporates t-tests to be more rigourous in his analysis.\n",
    "\n",
    "\"I wanted to see if there existed a statistically significant difference in changes in performance between players with 2008 salaries above the mean, and players with 2008 salaries below the mean.\"\n",
    "=> players with higher salaries, higher performances before the contract is signed, and the others\n",
    "\n",
    "\"This means that the test would be a one-tailed t-Test as I was testing to see if the means were different in a single direction. The null hypothesis can be stated: players with above average salaries in 2008 will have an average ΔRBI greater than or equal to the average ΔRBI demonstrated by the players with below average salaries in 2008. In mathematical terms this is\n",
    "Ho:μa−μb>=0\"\n",
    "\n",
    "=> testing if the difference between performance (RBI) before and after the contract is signed is higher in better payed players than in the others, aka, testing if the higher payed players have a more significant drop in their performances.\n",
    "\n",
    "\n",
    "\"The t-statistic of -3.222 from the t-test is less than the t-critical of -1.664 for α=0.05. Therefore, I can reject the null hypothesis and conclude that the players with above average salaries in 2008 experienced a statistically significant decrease in performance relative to players with below average salaries in 2008 from the years preceding the salary to the years following the salary.\"\n",
    "=> rejecting the null hypothesis\n",
    "\n",
    "\"These results suggest that players with higher salaries will see a larger decrease in their performance from before the salary year to after the salary year than players with lower salaries. Regression to the mean appears to be at work in MLB, and outliers such as exceptional batting performance as measured in RBIs will tend to return to the mean value given enough time.\""
   ]
  }
 ],
 "metadata": {
  "kernelspec": {
   "display_name": "Python 3",
   "language": "python",
   "name": "python3"
  },
  "language_info": {
   "codemirror_mode": {
    "name": "ipython",
    "version": 3
   },
   "file_extension": ".py",
   "mimetype": "text/x-python",
   "name": "python",
   "nbconvert_exporter": "python",
   "pygments_lexer": "ipython3",
   "version": "3.7.3"
  }
 },
 "nbformat": 4,
 "nbformat_minor": 2
}
